{
 "cells": [
  {
   "cell_type": "code",
   "execution_count": 1,
   "id": "e0c6493b-52c1-47db-9aee-33bbb2468779",
   "metadata": {},
   "outputs": [
    {
     "name": "stdout",
     "output_type": "stream",
     "text": [
      "Requirement already satisfied: psycopg2 in c:\\users\\user\\desktop\\sample_project_1\\env\\lib\\site-packages (2.9.10)\n",
      "Note: you may need to restart the kernel to use updated packages.\n"
     ]
    }
   ],
   "source": [
    "pip install psycopg2"
   ]
  },
  {
   "cell_type": "code",
   "execution_count": 2,
   "id": "768a0a9f-eb07-46d5-8984-781589f26e45",
   "metadata": {},
   "outputs": [
    {
     "name": "stdout",
     "output_type": "stream",
     "text": [
      "psycopg2 is working!\n"
     ]
    }
   ],
   "source": [
    "import psycopg2\n",
    "print(\"psycopg2 is working!\")"
   ]
  },
  {
   "cell_type": "code",
   "execution_count": 3,
   "id": "0f811b90-4c51-4ffa-95c9-b5cabdf2365b",
   "metadata": {},
   "outputs": [
    {
     "name": "stdout",
     "output_type": "stream",
     "text": [
      "Database connection successful!\n",
      "\n",
      "Discrepancy Report:\n",
      "     invoice_id customer_name  invoice_amount  total_paid  discrepancy\n",
      "0          1560         Zooxo            18.0        20.0         -2.0\n",
      "1          1587      Gigaclub            99.0        90.0          9.0\n",
      "2          1128  Jabbersphere            92.4        84.0          8.4\n",
      "3          1691         Meemm            59.4        66.0         -6.6\n",
      "4          1136         Quaxo            52.2        58.0         -5.8\n",
      "..          ...           ...             ...         ...          ...\n",
      "189        1760     Flashspan            11.7        13.0         -1.3\n",
      "190        1288      Zoomzone            53.1        59.0         -5.9\n",
      "191        1839       Tagtune            50.6        46.0          4.6\n",
      "192        1659       Feedmix            60.3        67.0         -6.7\n",
      "193        1014         Mydeo            16.2        18.0         -1.8\n",
      "\n",
      "[194 rows x 5 columns]\n",
      "Database connection closed.\n"
     ]
    },
    {
     "name": "stderr",
     "output_type": "stream",
     "text": [
      "C:\\Users\\USER\\AppData\\Local\\Temp\\ipykernel_13764\\4250879301.py:28: UserWarning: pandas only supports SQLAlchemy connectable (engine/connection) or database string URI or sqlite3 DBAPI2 connection. Other DBAPI2 objects are not tested. Please consider using SQLAlchemy.\n",
      "  df = pd.read_sql(query, conn)\n"
     ]
    }
   ],
   "source": [
    "import psycopg2\n",
    "import pandas as pd\n",
    "\n",
    "# Database credentials\n",
    "DB_NAME = \"Payment_Discrepancy_Resolution_System\"\n",
    "DB_USER = \"postgres\" \n",
    "DB_PASSWORD = \"Manu@1999\" \n",
    "DB_HOST = \"localhost\"\n",
    "DB_PORT = \"5432\"\n",
    "\n",
    "try:\n",
    "    conn = psycopg2.connect(\n",
    "        dbname=DB_NAME, user=DB_USER, password=DB_PASSWORD, host=DB_HOST, port=DB_PORT\n",
    "    )\n",
    "    print(\"Database connection successful!\")\n",
    "\n",
    "    query = \"\"\"\n",
    "        SELECT i.invoice_id, i.customer_name, \n",
    "               i.amount AS invoice_amount, \n",
    "               COALESCE(SUM(p.amount), 0) AS total_paid, \n",
    "               (i.amount - COALESCE(SUM(p.amount), 0)) AS discrepancy\n",
    "        FROM Invoices i\n",
    "        LEFT JOIN Payments p ON i.invoice_id = p.invoice_id\n",
    "        GROUP BY i.invoice_id, i.amount\n",
    "        HAVING i.amount != COALESCE(SUM(p.amount), 0);\n",
    "    \"\"\"\n",
    "\n",
    "    df = pd.read_sql(query, conn)\n",
    "\n",
    "    df.to_csv(\"discrepancy_report.csv\", index=False)\n",
    "\n",
    "    print(\"\\nDiscrepancy Report:\")\n",
    "    print(df)\n",
    "\n",
    "except Exception as e:\n",
    "    print(f\"Error: {e}\")\n",
    "\n",
    "finally:\n",
    "    if 'conn' in locals():\n",
    "        conn.close()\n",
    "        print(\"Database connection closed.\")\n"
   ]
  },
  {
   "cell_type": "code",
   "execution_count": 4,
   "id": "1f32e1ee-976e-4760-bcda-a0d371bd23aa",
   "metadata": {},
   "outputs": [
    {
     "name": "stdout",
     "output_type": "stream",
     "text": [
      "Requirement already satisfied: seaborn in c:\\users\\user\\desktop\\sample_project_1\\env\\lib\\site-packages (0.13.2)\n",
      "Requirement already satisfied: numpy!=1.24.0,>=1.20 in c:\\users\\user\\desktop\\sample_project_1\\env\\lib\\site-packages (from seaborn) (2.2.2)\n",
      "Requirement already satisfied: pandas>=1.2 in c:\\users\\user\\desktop\\sample_project_1\\env\\lib\\site-packages (from seaborn) (2.2.3)\n",
      "Requirement already satisfied: matplotlib!=3.6.1,>=3.4 in c:\\users\\user\\desktop\\sample_project_1\\env\\lib\\site-packages (from seaborn) (3.10.0)\n",
      "Requirement already satisfied: contourpy>=1.0.1 in c:\\users\\user\\desktop\\sample_project_1\\env\\lib\\site-packages (from matplotlib!=3.6.1,>=3.4->seaborn) (1.3.1)\n",
      "Requirement already satisfied: cycler>=0.10 in c:\\users\\user\\desktop\\sample_project_1\\env\\lib\\site-packages (from matplotlib!=3.6.1,>=3.4->seaborn) (0.11.0)\n",
      "Requirement already satisfied: fonttools>=4.22.0 in c:\\users\\user\\desktop\\sample_project_1\\env\\lib\\site-packages (from matplotlib!=3.6.1,>=3.4->seaborn) (4.55.3)\n",
      "Requirement already satisfied: kiwisolver>=1.3.1 in c:\\users\\user\\desktop\\sample_project_1\\env\\lib\\site-packages (from matplotlib!=3.6.1,>=3.4->seaborn) (1.4.8)\n",
      "Requirement already satisfied: packaging>=20.0 in c:\\users\\user\\desktop\\sample_project_1\\env\\lib\\site-packages (from matplotlib!=3.6.1,>=3.4->seaborn) (24.2)\n",
      "Requirement already satisfied: pillow>=8 in c:\\users\\user\\desktop\\sample_project_1\\env\\lib\\site-packages (from matplotlib!=3.6.1,>=3.4->seaborn) (11.1.0)\n",
      "Requirement already satisfied: pyparsing>=2.3.1 in c:\\users\\user\\desktop\\sample_project_1\\env\\lib\\site-packages (from matplotlib!=3.6.1,>=3.4->seaborn) (3.2.0)\n",
      "Requirement already satisfied: python-dateutil>=2.7 in c:\\users\\user\\desktop\\sample_project_1\\env\\lib\\site-packages (from matplotlib!=3.6.1,>=3.4->seaborn) (2.9.0.post0)\n",
      "Requirement already satisfied: pytz>=2020.1 in c:\\users\\user\\desktop\\sample_project_1\\env\\lib\\site-packages (from pandas>=1.2->seaborn) (2024.1)\n",
      "Requirement already satisfied: tzdata>=2022.7 in c:\\users\\user\\desktop\\sample_project_1\\env\\lib\\site-packages (from pandas>=1.2->seaborn) (2023.3)\n",
      "Requirement already satisfied: six>=1.5 in c:\\users\\user\\desktop\\sample_project_1\\env\\lib\\site-packages (from python-dateutil>=2.7->matplotlib!=3.6.1,>=3.4->seaborn) (1.16.0)\n",
      "Note: you may need to restart the kernel to use updated packages.\n"
     ]
    }
   ],
   "source": [
    "pip install seaborn"
   ]
  },
  {
   "cell_type": "code",
   "execution_count": 5,
   "id": "71faebba-347a-45f3-9756-075a0ab86ce2",
   "metadata": {},
   "outputs": [
    {
     "name": "stdout",
     "output_type": "stream",
     "text": [
      "   invoice_id customer_name  invoice_amount  total_paid  discrepancy\n",
      "0        1560         Zooxo            18.0        20.0         -2.0\n",
      "1        1587      Gigaclub            99.0        90.0          9.0\n",
      "2        1128  Jabbersphere            92.4        84.0          8.4\n",
      "3        1691         Meemm            59.4        66.0         -6.6\n",
      "4        1136         Quaxo            52.2        58.0         -5.8\n"
     ]
    }
   ],
   "source": [
    "import pandas as pd\n",
    "import matplotlib.pyplot as plt\n",
    "import seaborn as sns\n",
    "\n",
    "print(df.head())"
   ]
  },
  {
   "cell_type": "code",
   "execution_count": 6,
   "id": "171b615e-9baf-4729-9276-37b65ecb3932",
   "metadata": {},
   "outputs": [
    {
     "name": "stdout",
     "output_type": "stream",
     "text": [
      "Summary Statistics:\n",
      " count     194.000000\n",
      "mean      146.345876\n",
      "std       716.184313\n",
      "min      -650.000000\n",
      "25%        -5.200000\n",
      "50%        -0.250000\n",
      "75%         6.200000\n",
      "max      5094.600000\n",
      "Name: discrepancy, dtype: float64\n"
     ]
    }
   ],
   "source": [
    "# Basic statistics of discrepancies\n",
    "summary_stats = df['discrepancy'].describe()\n",
    "print(\"Summary Statistics:\\n\", summary_stats)"
   ]
  },
  {
   "cell_type": "code",
   "execution_count": 7,
   "id": "206deebd-b6bf-45e4-9c57-c541742a548e",
   "metadata": {},
   "outputs": [
    {
     "name": "stdout",
     "output_type": "stream",
     "text": [
      "\n",
      "Top 10 Underpaid Invoices:\n",
      "      invoice_id customer_name  invoice_amount  total_paid  discrepancy\n",
      "83         1863         Eadel          5850.0      6500.0       -650.0\n",
      "115        1231       Yakitri          5850.0      6500.0       -650.0\n",
      "179        1448        Vinder          5850.0      6500.0       -650.0\n",
      "29         1845        Devbug          1120.5      1245.0       -124.5\n",
      "50         1574         Npath          1110.6      1234.0       -123.4\n",
      "95         1612         Voomm            90.0       100.0        -10.0\n",
      "13         1004       Youspan            89.1        99.0         -9.9\n",
      "182        1068       Bluejam            88.2        98.0         -9.8\n",
      "11         1742      Fliptune            86.4        96.0         -9.6\n",
      "138        1801     Gigashots            86.4        96.0         -9.6\n",
      "\n",
      "Top 10 Overpaid Invoices:\n",
      "      invoice_id customer_name  invoice_amount  total_paid  discrepancy\n",
      "76         1205       Teklist         30567.6     25473.0       5094.6\n",
      "40         1022       Dynabox         30051.6     25043.0       5008.6\n",
      "43         1203     Rhynoodle         29674.8     24729.0       4945.8\n",
      "143        1040     Browsecat         19350.0     16125.0       3225.0\n",
      "124        1483        Skimia         14481.6     12068.0       2413.6\n",
      "79         1234         Tazzy         10212.0      8510.0       1702.0\n",
      "142        1454       Youtags          7424.4      6187.0       1237.4\n",
      "145        1107        Roombo         13200.0     12000.0       1200.0\n",
      "36         1144         Yadel          6579.6      5483.0       1096.6\n",
      "84         1764         Voomm          5224.8      4354.0        870.8\n"
     ]
    }
   ],
   "source": [
    "# Sort discrepancies in ascending order to get the most underpaid invoices\n",
    "top_underpaid = df.nsmallest(10, 'discrepancy')\n",
    "print(\"\\nTop 10 Underpaid Invoices:\\n\", top_underpaid)\n",
    "\n",
    "# Sort discrepancies in descending order to get the most overpaid invoices\n",
    "top_overpaid = df.nlargest(10, 'discrepancy')\n",
    "print(\"\\nTop 10 Overpaid Invoices:\\n\", top_overpaid)"
   ]
  },
  {
   "cell_type": "code",
   "execution_count": 8,
   "id": "534b6445-2a18-4ce8-9d51-c7645aef5fdc",
   "metadata": {},
   "outputs": [
    {
     "data": {
      "image/png": "[encoded data removed]",
      "text/plain": [
       "<Figure size 1000x500 with 1 Axes>"
      ]
     },
     "metadata": {},
     "output_type": "display_data"
    }
   ],
   "source": [
    "plt.figure(figsize=(10, 5))\n",
    "sns.histplot(df['discrepancy'], bins=20, kde=True, color='blue')\n",
    "plt.axvline(df['discrepancy'].mean(), color='red', linestyle='dashed', label=\"Mean Discrepancy\")\n",
    "plt.xlabel(\"Discrepancy Amount\")\n",
    "plt.ylabel(\"Frequency\")\n",
    "plt.title(\"Distribution of Discrepancies\")\n",
    "plt.legend()\n",
    "plt.show()"
   ]
  },
  {
   "cell_type": "code",
   "execution_count": 9,
   "id": "830bde3c-5c95-4180-8ee9-951705700e35",
   "metadata": {},
   "outputs": [
    {
     "name": "stdout",
     "output_type": "stream",
     "text": [
      "\n",
      "Top 10 Customers with Most Discrepancies:\n",
      "     customer_name  discrepancy\n",
      "59       Kanoodle           12\n",
      "89          Quire            4\n",
      "25         Devbug            3\n",
      "31        Dynabox            3\n",
      "18       Centidel            3\n",
      "102        Skimia            3\n",
      "39     Fivebridge            2\n",
      "57       Jetpulse            2\n",
      "87          Quimm            2\n",
      "86          Quaxo            2\n"
     ]
    }
   ],
   "source": [
    "# Count the number of discrepancies per customer\n",
    "customer_discrepancies = df.groupby(\"customer_name\")['discrepancy'].count().reset_index()\n",
    "customer_discrepancies = customer_discrepancies.sort_values(by=\"discrepancy\", ascending=False)\n",
    "\n",
    "# Display top 10 customers with most discrepancies\n",
    "print(\"\\nTop 10 Customers with Most Discrepancies:\\n\", customer_discrepancies.head(10))\n"
   ]
  },
  {
   "cell_type": "code",
   "execution_count": 10,
   "id": "2983d468-18be-4cc9-86ef-19ee8a7aae4f",
   "metadata": {},
   "outputs": [
    {
     "name": "stderr",
     "output_type": "stream",
     "text": [
      "C:\\Users\\USER\\AppData\\Local\\Temp\\ipykernel_13764\\1489628083.py:3: FutureWarning: \n",
      "\n",
      "Passing `palette` without assigning `hue` is deprecated and will be removed in v0.14.0. Assign the `x` variable to `hue` and set `legend=False` for the same effect.\n",
      "\n",
      "  sns.barplot(data=customer_discrepancies.head(10), x='customer_name', y='discrepancy', palette=\"viridis\")\n"
     ]
    },
    {
     "data": {
      "image/png": "[encoded data removed]",
      "text/plain": [
       "<Figure size 1200x500 with 1 Axes>"
      ]
     },
     "metadata": {},
     "output_type": "display_data"
    }
   ],
   "source": [
    "# Plot top 10 customers with most discrepancies\n",
    "plt.figure(figsize=(12, 5))\n",
    "sns.barplot(data=customer_discrepancies.head(10), x='customer_name', y='discrepancy', palette=\"viridis\")\n",
    "plt.xticks(rotation=45)\n",
    "plt.xlabel(\"Customer Name\")\n",
    "plt.ylabel(\"Number of Discrepancies\")\n",
    "plt.title(\"Top 10 Customers with Most Discrepancies\")\n",
    "plt.show()"
   ]
  },
  {
   "cell_type": "code",
   "execution_count": 11,
   "id": "6cca17f1-e3c1-4286-b952-d00f927f1c32",
   "metadata": {},
   "outputs": [
    {
     "name": "stdout",
     "output_type": "stream",
     "text": [
      "Requirement already satisfied: openpyxl in c:\\users\\user\\desktop\\sample_project_1\\env\\lib\\site-packages (3.1.5)\n",
      "Requirement already satisfied: et-xmlfile in c:\\users\\user\\desktop\\sample_project_1\\env\\lib\\site-packages (from openpyxl) (2.0.0)\n",
      "Note: you may need to restart the kernel to use updated packages.\n"
     ]
    }
   ],
   "source": [
    "pip install openpyxl"
   ]
  },
  {
   "cell_type": "code",
   "execution_count": 12,
   "id": "efcf6c68-dd94-46d2-9d02-1ac80d93d6f6",
   "metadata": {},
   "outputs": [
    {
     "name": "stdout",
     "output_type": "stream",
     "text": [
      "Discrepancy report saved!\n"
     ]
    }
   ],
   "source": [
    "df.to_excel(\"Discrepancy_Report1.xlsx\", index=False)\n",
    "print(\"Discrepancy report saved!\")"
   ]
  },
  {
   "cell_type": "code",
   "execution_count": 16,
   "id": "bf78d1c7-3b67-49ec-b847-87c550b0372f",
   "metadata": {},
   "outputs": [
    {
     "name": "stdout",
     "output_type": "stream",
     "text": [
      "❌ Error sending email: (535, b'5.7.139 Authentication unsuccessful, basic authentication is disabled. [MAXPR01CA0104.INDPRD01.PROD.OUTLOOK.COM 2025-02-28T21:43:21.631Z 08DD5814B9460303]')\n"
     ]
    }
   ],
   "source": [
    "import smtplib\n",
    "import os\n",
    "from email.message import EmailMessage\n",
    "\n",
    "def send_email_alert(discrepancy_count):\n",
    "    sender_email = \"toreachmanojn@outlook.com\"  \n",
    "    sender_password = \"vdmoeroixftzkvqj\"\n",
    "    receiver_email = \"24154100008@manipalacademyonline.edu.in\"\n",
    "\n",
    "    subject = \"🚨 Payment Discrepancy Alert\"\n",
    "    body = f\"ALERT: {discrepancy_count} invoice-payment mismatches detected.\\nPlease review the attached report.\"\n",
    "\n",
    "    msg = EmailMessage()\n",
    "    msg[\"Subject\"] = subject\n",
    "    msg[\"From\"] = sender_email\n",
    "    msg[\"To\"] = receiver_email\n",
    "    msg.set_content(body)\n",
    "\n",
    "    try:\n",
    "        with smtplib.SMTP(\"smtp.office365.com\", 587) as server:\n",
    "            server.starttls()\n",
    "            server.login(sender_email, sender_password)\n",
    "            server.send_message(msg)\n",
    "        print(\"✅ Email alert sent successfully!\")\n",
    "    except Exception as e:\n",
    "        print(f\"❌ Error sending email: {e}\")\n",
    "\n",
    "# Check if discrepancies exist before sending email\n",
    "if not df.empty:\n",
    "    send_email_alert(len(df))"
   ]
  },
  {
   "cell_type": "code",
   "execution_count": 20,
   "id": "27c0a08b-e307-437d-81c0-5f1753e9f8a3",
   "metadata": {},
   "outputs": [
    {
     "name": "stdout",
     "output_type": "stream",
     "text": [
      "✅ Email sent successfully!\n"
     ]
    }
   ],
   "source": [
    "import smtplib\n",
    "\n",
    "def send_email_alert(discrepancy_count):\n",
    "    sender_email = \"toreachmanojn@gmail.com\"\n",
    "    receiver_email = \"toreachmanojn@outlook.com\"\n",
    "    app_password = \"ubdxgapunlkeiqhh\" \n",
    "    \n",
    "    subject = \"Payment Discrepancy Alert\"\n",
    "    body = f\"ALERT: {discrepancy_count} invoice-payment mismatches detected. Check the attached report.\"\n",
    "    message = f\"Subject: {subject}\\n\\n{body}\"\n",
    "\n",
    "    try:\n",
    "        with smtplib.SMTP(\"smtp.gmail.com\", 587) as server:\n",
    "            server.starttls()\n",
    "            server.login(sender_email, app_password)\n",
    "            server.sendmail(sender_email, receiver_email, message)\n",
    "        print(\"✅ Email sent successfully!\")\n",
    "    except Exception as e:\n",
    "        print(f\"❌ Error sending email: {e}\")\n",
    "\n",
    "# Test sending email\n",
    "send_email_alert(5)"
   ]
  },
  {
   "cell_type": "code",
   "execution_count": 21,
   "id": "a656bb47-ec4b-4d01-ac9a-62fd24b480f7",
   "metadata": {},
   "outputs": [
    {
     "name": "stdout",
     "output_type": "stream",
     "text": [
      "✅ Email with attachment sent successfully!\n"
     ]
    }
   ],
   "source": [
    "import smtplib\n",
    "import ssl\n",
    "import os\n",
    "from email.message import EmailMessage\n",
    "\n",
    "# Email configuration\n",
    "SMTP_SERVER = \"smtp.gmail.com\"  \n",
    "SMTP_PORT = 587\n",
    "SENDER_EMAIL = \"toreachmanojn@gmail.com\"\n",
    "SENDER_PASSWORD = \"ubdxgapunlkeiqhh\"\n",
    "RECEIVER_EMAIL = \"toreachmanojn@outlook.com\"\n",
    "FILE_PATH = \"Discrepancy_Report.xlsx\"\n",
    "\n",
    "def send_email_with_attachment():\n",
    "    msg = EmailMessage()\n",
    "    msg[\"Subject\"] = \"Payment Discrepancy Report\"\n",
    "    msg[\"From\"] = SENDER_EMAIL\n",
    "    msg[\"To\"] = RECEIVER_EMAIL\n",
    "    msg.set_content(\"Please find the attached discrepancy report for review.\")\n",
    "\n",
    "    # Attach the file\n",
    "    with open(FILE_PATH, \"rb\") as file:\n",
    "        msg.add_attachment(file.read(), maintype=\"application\", subtype=\"vnd.ms-excel\", filename=os.path.basename(FILE_PATH))\n",
    "\n",
    "    # Send email\n",
    "    context = ssl.create_default_context()\n",
    "    with smtplib.SMTP(SMTP_SERVER, SMTP_PORT) as server:\n",
    "        server.starttls(context=context)\n",
    "        server.login(SENDER_EMAIL, SENDER_PASSWORD)\n",
    "        server.send_message(msg)\n",
    "    \n",
    "    print(\"✅ Email with attachment sent successfully!\")\n",
    "\n",
    "# Call the function to send the email\n",
    "send_email_with_attachment()"
   ]
  },
  {
   "cell_type": "code",
   "execution_count": 24,
   "id": "3707f178-e640-42df-b012-f379622aff62",
   "metadata": {},
   "outputs": [
    {
     "name": "stdout",
     "output_type": "stream",
     "text": [
      "Collecting streamlit\n",
      "  Downloading streamlit-1.42.2-py2.py3-none-any.whl.metadata (8.9 kB)\n",
      "Requirement already satisfied: pandas in c:\\users\\user\\desktop\\sample_project_1\\env\\lib\\site-packages (2.2.3)\n",
      "Requirement already satisfied: openpyxl in c:\\users\\user\\desktop\\sample_project_1\\env\\lib\\site-packages (3.1.5)\n",
      "Requirement already satisfied: matplotlib in c:\\users\\user\\desktop\\sample_project_1\\env\\lib\\site-packages (3.10.0)\n",
      "Requirement already satisfied: seaborn in c:\\users\\user\\desktop\\sample_project_1\\env\\lib\\site-packages (0.13.2)\n",
      "Collecting altair<6,>=4.0 (from streamlit)\n",
      "  Downloading altair-5.5.0-py3-none-any.whl.metadata (11 kB)\n",
      "Collecting blinker<2,>=1.0.0 (from streamlit)\n",
      "  Downloading blinker-1.9.0-py3-none-any.whl.metadata (1.6 kB)\n",
      "Collecting cachetools<6,>=4.0 (from streamlit)\n",
      "  Downloading cachetools-5.5.2-py3-none-any.whl.metadata (5.4 kB)\n",
      "Collecting click<9,>=7.0 (from streamlit)\n",
      "  Downloading click-8.1.8-py3-none-any.whl.metadata (2.3 kB)\n",
      "Requirement already satisfied: numpy<3,>=1.23 in c:\\users\\user\\desktop\\sample_project_1\\env\\lib\\site-packages (from streamlit) (2.2.2)\n",
      "Requirement already satisfied: packaging<25,>=20 in c:\\users\\user\\desktop\\sample_project_1\\env\\lib\\site-packages (from streamlit) (24.2)\n",
      "Requirement already satisfied: pillow<12,>=7.1.0 in c:\\users\\user\\desktop\\sample_project_1\\env\\lib\\site-packages (from streamlit) (11.1.0)\n",
      "Collecting protobuf<6,>=3.20 (from streamlit)\n",
      "  Downloading protobuf-5.29.3-cp310-abi3-win_amd64.whl.metadata (592 bytes)\n",
      "Collecting pyarrow>=7.0 (from streamlit)\n",
      "  Downloading pyarrow-19.0.1-cp311-cp311-win_amd64.whl.metadata (3.4 kB)\n",
      "Requirement already satisfied: requests<3,>=2.27 in c:\\users\\user\\desktop\\sample_project_1\\env\\lib\\site-packages (from streamlit) (2.32.3)\n",
      "Collecting rich<14,>=10.14.0 (from streamlit)\n",
      "  Downloading rich-13.9.4-py3-none-any.whl.metadata (18 kB)\n",
      "Collecting tenacity<10,>=8.1.0 (from streamlit)\n",
      "  Downloading tenacity-9.0.0-py3-none-any.whl.metadata (1.2 kB)\n",
      "Collecting toml<2,>=0.10.1 (from streamlit)\n",
      "  Downloading toml-0.10.2-py2.py3-none-any.whl.metadata (7.1 kB)\n",
      "Requirement already satisfied: typing-extensions<5,>=4.4.0 in c:\\users\\user\\desktop\\sample_project_1\\env\\lib\\site-packages (from streamlit) (4.12.2)\n",
      "Collecting watchdog<7,>=2.1.5 (from streamlit)\n",
      "  Downloading watchdog-6.0.0-py3-none-win_amd64.whl.metadata (44 kB)\n",
      "Collecting gitpython!=3.1.19,<4,>=3.0.7 (from streamlit)\n",
      "  Downloading GitPython-3.1.44-py3-none-any.whl.metadata (13 kB)\n",
      "Collecting pydeck<1,>=0.8.0b4 (from streamlit)\n",
      "  Downloading pydeck-0.9.1-py2.py3-none-any.whl.metadata (4.1 kB)\n",
      "Requirement already satisfied: tornado<7,>=6.0.3 in c:\\users\\user\\desktop\\sample_project_1\\env\\lib\\site-packages (from streamlit) (6.4.2)\n",
      "Requirement already satisfied: python-dateutil>=2.8.2 in c:\\users\\user\\desktop\\sample_project_1\\env\\lib\\site-packages (from pandas) (2.9.0.post0)\n",
      "Requirement already satisfied: pytz>=2020.1 in c:\\users\\user\\desktop\\sample_project_1\\env\\lib\\site-packages (from pandas) (2024.1)\n",
      "Requirement already satisfied: tzdata>=2022.7 in c:\\users\\user\\desktop\\sample_project_1\\env\\lib\\site-packages (from pandas) (2023.3)\n",
      "Requirement already satisfied: et-xmlfile in c:\\users\\user\\desktop\\sample_project_1\\env\\lib\\site-packages (from openpyxl) (2.0.0)\n",
      "Requirement already satisfied: contourpy>=1.0.1 in c:\\users\\user\\desktop\\sample_project_1\\env\\lib\\site-packages (from matplotlib) (1.3.1)\n",
      "Requirement already satisfied: cycler>=0.10 in c:\\users\\user\\desktop\\sample_project_1\\env\\lib\\site-packages (from matplotlib) (0.11.0)\n",
      "Requirement already satisfied: fonttools>=4.22.0 in c:\\users\\user\\desktop\\sample_project_1\\env\\lib\\site-packages (from matplotlib) (4.55.3)\n",
      "Requirement already satisfied: kiwisolver>=1.3.1 in c:\\users\\user\\desktop\\sample_project_1\\env\\lib\\site-packages (from matplotlib) (1.4.8)\n",
      "Requirement already satisfied: pyparsing>=2.3.1 in c:\\users\\user\\desktop\\sample_project_1\\env\\lib\\site-packages (from matplotlib) (3.2.0)\n",
      "Requirement already satisfied: jinja2 in c:\\users\\user\\desktop\\sample_project_1\\env\\lib\\site-packages (from altair<6,>=4.0->streamlit) (3.1.5)\n",
      "Requirement already satisfied: jsonschema>=3.0 in c:\\users\\user\\desktop\\sample_project_1\\env\\lib\\site-packages (from altair<6,>=4.0->streamlit) (4.23.0)\n",
      "Collecting narwhals>=1.14.2 (from altair<6,>=4.0->streamlit)\n",
      "  Downloading narwhals-1.28.0-py3-none-any.whl.metadata (10 kB)\n",
      "Requirement already satisfied: colorama in c:\\users\\user\\desktop\\sample_project_1\\env\\lib\\site-packages (from click<9,>=7.0->streamlit) (0.4.6)\n",
      "Collecting gitdb<5,>=4.0.1 (from gitpython!=3.1.19,<4,>=3.0.7->streamlit)\n",
      "  Downloading gitdb-4.0.12-py3-none-any.whl.metadata (1.2 kB)\n",
      "Requirement already satisfied: six>=1.5 in c:\\users\\user\\desktop\\sample_project_1\\env\\lib\\site-packages (from python-dateutil>=2.8.2->pandas) (1.16.0)\n",
      "Requirement already satisfied: charset-normalizer<4,>=2 in c:\\users\\user\\desktop\\sample_project_1\\env\\lib\\site-packages (from requests<3,>=2.27->streamlit) (3.3.2)\n",
      "Requirement already satisfied: idna<4,>=2.5 in c:\\users\\user\\desktop\\sample_project_1\\env\\lib\\site-packages (from requests<3,>=2.27->streamlit) (3.7)\n",
      "Requirement already satisfied: urllib3<3,>=1.21.1 in c:\\users\\user\\desktop\\sample_project_1\\env\\lib\\site-packages (from requests<3,>=2.27->streamlit) (2.3.0)\n",
      "Requirement already satisfied: certifi>=2017.4.17 in c:\\users\\user\\desktop\\sample_project_1\\env\\lib\\site-packages (from requests<3,>=2.27->streamlit) (2024.12.14)\n",
      "Collecting markdown-it-py>=2.2.0 (from rich<14,>=10.14.0->streamlit)\n",
      "  Downloading markdown_it_py-3.0.0-py3-none-any.whl.metadata (6.9 kB)\n",
      "Requirement already satisfied: pygments<3.0.0,>=2.13.0 in c:\\users\\user\\desktop\\sample_project_1\\env\\lib\\site-packages (from rich<14,>=10.14.0->streamlit) (2.15.1)\n",
      "Collecting smmap<6,>=3.0.1 (from gitdb<5,>=4.0.1->gitpython!=3.1.19,<4,>=3.0.7->streamlit)\n",
      "  Downloading smmap-5.0.2-py3-none-any.whl.metadata (4.3 kB)\n",
      "Requirement already satisfied: MarkupSafe>=2.0 in c:\\users\\user\\desktop\\sample_project_1\\env\\lib\\site-packages (from jinja2->altair<6,>=4.0->streamlit) (2.1.3)\n",
      "Requirement already satisfied: attrs>=22.2.0 in c:\\users\\user\\desktop\\sample_project_1\\env\\lib\\site-packages (from jsonschema>=3.0->altair<6,>=4.0->streamlit) (24.3.0)\n",
      "Requirement already satisfied: jsonschema-specifications>=2023.03.6 in c:\\users\\user\\desktop\\sample_project_1\\env\\lib\\site-packages (from jsonschema>=3.0->altair<6,>=4.0->streamlit) (2023.7.1)\n",
      "Requirement already satisfied: referencing>=0.28.4 in c:\\users\\user\\desktop\\sample_project_1\\env\\lib\\site-packages (from jsonschema>=3.0->altair<6,>=4.0->streamlit) (0.30.2)\n",
      "Requirement already satisfied: rpds-py>=0.7.1 in c:\\users\\user\\desktop\\sample_project_1\\env\\lib\\site-packages (from jsonschema>=3.0->altair<6,>=4.0->streamlit) (0.22.3)\n",
      "Collecting mdurl~=0.1 (from markdown-it-py>=2.2.0->rich<14,>=10.14.0->streamlit)\n",
      "  Downloading mdurl-0.1.2-py3-none-any.whl.metadata (1.6 kB)\n",
      "Downloading streamlit-1.42.2-py2.py3-none-any.whl (9.6 MB)\n",
      "   ---------------------------------------- 0.0/9.6 MB ? eta -:--:--\n",
      "   -------- ------------------------------- 2.1/9.6 MB 11.7 MB/s eta 0:00:01\n",
      "   ------------------ --------------------- 4.5/9.6 MB 11.7 MB/s eta 0:00:01\n",
      "   ---------------------------- ----------- 6.8/9.6 MB 11.6 MB/s eta 0:00:01\n",
      "   ------------------------------------- -- 8.9/9.6 MB 11.1 MB/s eta 0:00:01\n",
      "   ---------------------------------------  9.4/9.6 MB 11.1 MB/s eta 0:00:01\n",
      "   ---------------------------------------  9.4/9.6 MB 11.1 MB/s eta 0:00:01\n",
      "   ---------------------------------------  9.4/9.6 MB 11.1 MB/s eta 0:00:01\n",
      "   ---------------------------------------- 9.6/9.6 MB 6.4 MB/s eta 0:00:00\n",
      "Downloading altair-5.5.0-py3-none-any.whl (731 kB)\n",
      "   ---------------------------------------- 0.0/731.2 kB ? eta -:--:--\n",
      "   ---------------------------------------- 731.2/731.2 kB 7.4 MB/s eta 0:00:00\n",
      "Downloading blinker-1.9.0-py3-none-any.whl (8.5 kB)\n",
      "Downloading cachetools-5.5.2-py3-none-any.whl (10 kB)\n",
      "Downloading click-8.1.8-py3-none-any.whl (98 kB)\n",
      "Downloading GitPython-3.1.44-py3-none-any.whl (207 kB)\n",
      "Downloading protobuf-5.29.3-cp310-abi3-win_amd64.whl (434 kB)\n",
      "Downloading pyarrow-19.0.1-cp311-cp311-win_amd64.whl (25.3 MB)\n",
      "   ---------------------------------------- 0.0/25.3 MB ? eta -:--:--\n",
      "   --- ------------------------------------ 2.4/25.3 MB 11.2 MB/s eta 0:00:03\n",
      "   ------- -------------------------------- 5.0/25.3 MB 11.6 MB/s eta 0:00:02\n",
      "   ----------- ---------------------------- 7.3/25.3 MB 11.3 MB/s eta 0:00:02\n",
      "   --------------- ------------------------ 9.7/25.3 MB 11.6 MB/s eta 0:00:02\n",
      "   ------------------- -------------------- 12.1/25.3 MB 11.6 MB/s eta 0:00:02\n",
      "   ----------------------- ---------------- 14.7/25.3 MB 11.5 MB/s eta 0:00:01\n",
      "   -------------------------- ------------- 16.8/25.3 MB 11.5 MB/s eta 0:00:01\n",
      "   ------------------------------ --------- 19.4/25.3 MB 11.5 MB/s eta 0:00:01\n",
      "   ---------------------------------- ----- 21.8/25.3 MB 11.6 MB/s eta 0:00:01\n",
      "   -------------------------------------- - 24.4/25.3 MB 11.6 MB/s eta 0:00:01\n",
      "   ---------------------------------------  25.2/25.3 MB 11.5 MB/s eta 0:00:01\n",
      "   ---------------------------------------  25.2/25.3 MB 11.5 MB/s eta 0:00:01\n",
      "   ---------------------------------------  25.2/25.3 MB 11.5 MB/s eta 0:00:01\n",
      "   ---------------------------------------  25.2/25.3 MB 11.5 MB/s eta 0:00:01\n",
      "   ---------------------------------------  25.2/25.3 MB 11.5 MB/s eta 0:00:01\n",
      "   ---------------------------------------- 25.3/25.3 MB 7.6 MB/s eta 0:00:00\n",
      "Downloading pydeck-0.9.1-py2.py3-none-any.whl (6.9 MB)\n",
      "   ---------------------------------------- 0.0/6.9 MB ? eta -:--:--\n",
      "   ------------- -------------------------- 2.4/6.9 MB 11.2 MB/s eta 0:00:01\n",
      "   --------------------------- ------------ 4.7/6.9 MB 11.4 MB/s eta 0:00:01\n",
      "   ---------------------------------------- 6.9/6.9 MB 11.2 MB/s eta 0:00:00\n",
      "Downloading rich-13.9.4-py3-none-any.whl (242 kB)\n",
      "Downloading tenacity-9.0.0-py3-none-any.whl (28 kB)\n",
      "Downloading toml-0.10.2-py2.py3-none-any.whl (16 kB)\n",
      "Downloading watchdog-6.0.0-py3-none-win_amd64.whl (79 kB)\n",
      "Downloading gitdb-4.0.12-py3-none-any.whl (62 kB)\n",
      "Downloading markdown_it_py-3.0.0-py3-none-any.whl (87 kB)\n",
      "Downloading narwhals-1.28.0-py3-none-any.whl (308 kB)\n",
      "Downloading mdurl-0.1.2-py3-none-any.whl (10.0 kB)\n",
      "Downloading smmap-5.0.2-py3-none-any.whl (24 kB)\n",
      "Installing collected packages: watchdog, toml, tenacity, smmap, pyarrow, protobuf, narwhals, mdurl, click, cachetools, blinker, pydeck, markdown-it-py, gitdb, rich, gitpython, altair, streamlit\n",
      "Successfully installed altair-5.5.0 blinker-1.9.0 cachetools-5.5.2 click-8.1.8 gitdb-4.0.12 gitpython-3.1.44 markdown-it-py-3.0.0 mdurl-0.1.2 narwhals-1.28.0 protobuf-5.29.3 pyarrow-19.0.1 pydeck-0.9.1 rich-13.9.4 smmap-5.0.2 streamlit-1.42.2 tenacity-9.0.0 toml-0.10.2 watchdog-6.0.0\n",
      "Note: you may need to restart the kernel to use updated packages.\n"
     ]
    }
   ],
   "source": [
    "pip install streamlit pandas openpyxl matplotlib seaborn"
   ]
  },
  {
   "cell_type": "code",
   "execution_count": 7,
   "id": "5e02ec56-a840-4aae-8543-725c3495d228",
   "metadata": {},
   "outputs": [
    {
     "name": "stderr",
     "output_type": "stream",
     "text": [
      "2025-03-01 03:35:27.241 No runtime found, using MemoryCacheStorageManager\n",
      "2025-03-01 03:35:27.241 No runtime found, using MemoryCacheStorageManager\n",
      "2025-03-01 03:35:27.241 Thread 'MainThread': missing ScriptRunContext! This warning can be ignored when running in bare mode.\n",
      "2025-03-01 03:35:27.241 Thread 'MainThread': missing ScriptRunContext! This warning can be ignored when running in bare mode.\n",
      "2025-03-01 03:35:27.241 Thread 'MainThread': missing ScriptRunContext! This warning can be ignored when running in bare mode.\n",
      "2025-03-01 03:35:27.260 Thread 'MainThread': missing ScriptRunContext! This warning can be ignored when running in bare mode.\n",
      "2025-03-01 03:35:27.261 Thread 'MainThread': missing ScriptRunContext! This warning can be ignored when running in bare mode.\n",
      "2025-03-01 03:35:27.262 Thread 'MainThread': missing ScriptRunContext! This warning can be ignored when running in bare mode.\n",
      "2025-03-01 03:35:27.263 Thread 'MainThread': missing ScriptRunContext! This warning can be ignored when running in bare mode.\n",
      "2025-03-01 03:35:27.264 Thread 'MainThread': missing ScriptRunContext! This warning can be ignored when running in bare mode.\n",
      "2025-03-01 03:35:27.264 Thread 'MainThread': missing ScriptRunContext! This warning can be ignored when running in bare mode.\n",
      "2025-03-01 03:35:27.267 Thread 'MainThread': missing ScriptRunContext! This warning can be ignored when running in bare mode.\n",
      "2025-03-01 03:35:27.267 Thread 'MainThread': missing ScriptRunContext! This warning can be ignored when running in bare mode.\n",
      "2025-03-01 03:35:27.270 Thread 'MainThread': missing ScriptRunContext! This warning can be ignored when running in bare mode.\n",
      "2025-03-01 03:35:27.270 Thread 'MainThread': missing ScriptRunContext! This warning can be ignored when running in bare mode.\n",
      "2025-03-01 03:35:27.270 Thread 'MainThread': missing ScriptRunContext! This warning can be ignored when running in bare mode.\n",
      "2025-03-01 03:35:27.275 Thread 'MainThread': missing ScriptRunContext! This warning can be ignored when running in bare mode.\n",
      "2025-03-01 03:35:27.277 Thread 'MainThread': missing ScriptRunContext! This warning can be ignored when running in bare mode.\n",
      "2025-03-01 03:35:27.277 Thread 'MainThread': missing ScriptRunContext! This warning can be ignored when running in bare mode.\n",
      "2025-03-01 03:35:27.278 Thread 'MainThread': missing ScriptRunContext! This warning can be ignored when running in bare mode.\n",
      "2025-03-01 03:35:27.279 Thread 'MainThread': missing ScriptRunContext! This warning can be ignored when running in bare mode.\n",
      "2025-03-01 03:35:27.281 Thread 'MainThread': missing ScriptRunContext! This warning can be ignored when running in bare mode.\n",
      "2025-03-01 03:35:27.282 Thread 'MainThread': missing ScriptRunContext! This warning can be ignored when running in bare mode.\n",
      "2025-03-01 03:35:27.282 Thread 'MainThread': missing ScriptRunContext! This warning can be ignored when running in bare mode.\n",
      "2025-03-01 03:35:27.282 Thread 'MainThread': missing ScriptRunContext! This warning can be ignored when running in bare mode.\n",
      "2025-03-01 03:35:27.285 Session state does not function when running a script without `streamlit run`\n",
      "2025-03-01 03:35:27.287 Thread 'MainThread': missing ScriptRunContext! This warning can be ignored when running in bare mode.\n",
      "2025-03-01 03:35:27.287 Thread 'MainThread': missing ScriptRunContext! This warning can be ignored when running in bare mode.\n",
      "2025-03-01 03:35:27.287 Thread 'MainThread': missing ScriptRunContext! This warning can be ignored when running in bare mode.\n",
      "2025-03-01 03:35:27.287 Thread 'MainThread': missing ScriptRunContext! This warning can be ignored when running in bare mode.\n",
      "2025-03-01 03:35:27.299 Thread 'MainThread': missing ScriptRunContext! This warning can be ignored when running in bare mode.\n",
      "2025-03-01 03:35:27.299 Thread 'MainThread': missing ScriptRunContext! This warning can be ignored when running in bare mode.\n",
      "2025-03-01 03:35:27.299 Thread 'MainThread': missing ScriptRunContext! This warning can be ignored when running in bare mode.\n",
      "2025-03-01 03:35:27.299 Thread 'MainThread': missing ScriptRunContext! This warning can be ignored when running in bare mode.\n",
      "2025-03-01 03:35:27.308 Thread 'MainThread': missing ScriptRunContext! This warning can be ignored when running in bare mode.\n",
      "2025-03-01 03:35:27.310 Thread 'MainThread': missing ScriptRunContext! This warning can be ignored when running in bare mode.\n",
      "2025-03-01 03:35:27.310 Thread 'MainThread': missing ScriptRunContext! This warning can be ignored when running in bare mode.\n",
      "2025-03-01 03:35:27.312 Thread 'MainThread': missing ScriptRunContext! This warning can be ignored when running in bare mode.\n",
      "2025-03-01 03:35:27.313 Thread 'MainThread': missing ScriptRunContext! This warning can be ignored when running in bare mode.\n",
      "2025-03-01 03:35:27.313 Thread 'MainThread': missing ScriptRunContext! This warning can be ignored when running in bare mode.\n",
      "2025-03-01 03:35:27.576 Thread 'MainThread': missing ScriptRunContext! This warning can be ignored when running in bare mode.\n",
      "2025-03-01 03:35:27.577 Thread 'MainThread': missing ScriptRunContext! This warning can be ignored when running in bare mode.\n",
      "2025-03-01 03:35:27.577 Thread 'MainThread': missing ScriptRunContext! This warning can be ignored when running in bare mode.\n",
      "2025-03-01 03:35:27.577 Thread 'MainThread': missing ScriptRunContext! This warning can be ignored when running in bare mode.\n",
      "2025-03-01 03:35:27.577 Thread 'MainThread': missing ScriptRunContext! This warning can be ignored when running in bare mode.\n",
      "2025-03-01 03:35:27.580 Thread 'MainThread': missing ScriptRunContext! This warning can be ignored when running in bare mode.\n",
      "2025-03-01 03:35:27.580 Thread 'MainThread': missing ScriptRunContext! This warning can be ignored when running in bare mode.\n",
      "2025-03-01 03:35:27.582 Thread 'MainThread': missing ScriptRunContext! This warning can be ignored when running in bare mode.\n",
      "C:\\Users\\USER\\AppData\\Local\\Temp\\ipykernel_7792\\2783598059.py:46: FutureWarning: \n",
      "\n",
      "Passing `palette` without assigning `hue` is deprecated and will be removed in v0.14.0. Assign the `y` variable to `hue` and set `legend=False` for the same effect.\n",
      "\n",
      "  sns.barplot(data=filtered_df, x=\"discrepancy\", y=\"customer_name\", palette=\"coolwarm\", ax=ax)\n",
      "2025-03-01 03:35:27.786 Thread 'MainThread': missing ScriptRunContext! This warning can be ignored when running in bare mode.\n",
      "2025-03-01 03:35:28.131 Thread 'MainThread': missing ScriptRunContext! This warning can be ignored when running in bare mode.\n",
      "2025-03-01 03:35:28.132 Thread 'MainThread': missing ScriptRunContext! This warning can be ignored when running in bare mode.\n"
     ]
    },
    {
     "data": {
      "text/plain": [
       "DeltaGenerator()"
      ]
     },
     "execution_count": 7,
     "metadata": {},
     "output_type": "execute_result"
    }
   ],
   "source": [
    "import streamlit as st\n",
    "import pandas as pd\n",
    "import matplotlib.pyplot as plt\n",
    "import seaborn as sns\n",
    "\n",
    "# Load the data\n",
    "@st.cache_data\n",
    "def load_data():\n",
    "    return pd.read_csv(\"discrepancy_report.csv\")\n",
    "\n",
    "df = load_data()\n",
    "\n",
    "# Title\n",
    "st.title(\"📊 Payment Discrepancy Dashboard\")\n",
    "\n",
    "# Sidebar Filters\n",
    "st.sidebar.header(\"🔍 Filter Options\")\n",
    "customer_filter = st.sidebar.multiselect(\"Select Customer:\", df[\"customer_name\"].unique())\n",
    "date_filter = st.sidebar.date_input(\"Select Date Range:\", [])\n",
    "amount_filter = st.sidebar.slider(\"Discrepancy Amount Range:\", float(df[\"discrepancy\"].min()), float(df[\"discrepancy\"].max()))\n",
    "\n",
    "# Apply Filters\n",
    "filtered_df = df.copy()\n",
    "if customer_filter:\n",
    "    filtered_df = filtered_df[filtered_df[\"customer_name\"].isin(customer_filter)]\n",
    "if date_filter:\n",
    "    filtered_df = filtered_df[pd.to_datetime(filtered_df[\"date\"]) >= pd.to_datetime(date_filter[0])]\n",
    "if amount_filter:\n",
    "    filtered_df = filtered_df[filtered_df[\"discrepancy\"] <= amount_filter]\n",
    "\n",
    "# Display Data\n",
    "st.subheader(\"Filtered Discrepancies\")\n",
    "st.dataframe(filtered_df)\n",
    "\n",
    "# Download Reports\n",
    "st.sidebar.markdown(\"### 📥 Download Reports\")\n",
    "csv = filtered_df.to_csv(index=False).encode(\"utf-8\")\n",
    "st.sidebar.download_button(\"Download CSV\", csv, \"filtered_discrepancies.csv\", \"text/csv\")\n",
    "\n",
    "excel = filtered_df.to_excel(\"filtered_discrepancies.xlsx\", index=False)\n",
    "st.sidebar.download_button(\"Download Excel\", \"filtered_discrepancies.xlsx\")\n",
    "\n",
    "# Visualization\n",
    "st.subheader(\"📊 Discrepancy Analysis\")\n",
    "fig, ax = plt.subplots(figsize=(10, 5))\n",
    "sns.barplot(data=filtered_df, x=\"discrepancy\", y=\"customer_name\", palette=\"coolwarm\", ax=ax)\n",
    "st.pyplot(fig)"
   ]
  },
  {
   "cell_type": "code",
   "execution_count": 8,
   "id": "88d680e6-112c-4bd5-b2d8-11b7292a3bda",
   "metadata": {},
   "outputs": [
    {
     "ename": "SyntaxError",
     "evalue": "invalid syntax (3737097518.py, line 1)",
     "output_type": "error",
     "traceback": [
      "\u001b[1;36m  Cell \u001b[1;32mIn[8], line 1\u001b[1;36m\u001b[0m\n\u001b[1;33m    streamlit run app.py\u001b[0m\n\u001b[1;37m              ^\u001b[0m\n\u001b[1;31mSyntaxError\u001b[0m\u001b[1;31m:\u001b[0m invalid syntax\n"
     ]
    }
   ],
   "source": [
    "streamlit run app.py"
   ]
  },
  {
   "cell_type": "code",
   "execution_count": null,
   "id": "167aefaa-5bfc-492e-be2c-ab4b4739bfbb",
   "metadata": {},
   "outputs": [],
   "source": []
  }
 ],
 "metadata": {
  "kernelspec": {
   "display_name": "Python 3 (ipykernel)",
   "language": "python",
   "name": "python3"
  },
  "language_info": {
   "codemirror_mode": {
    "name": "ipython",
    "version": 3
   },
   "file_extension": ".py",
   "mimetype": "text/x-python",
   "name": "python",
   "nbconvert_exporter": "python",
   "pygments_lexer": "ipython3",
   "version": "3.11.11"
  }
 },
 "nbformat": 4,
 "nbformat_minor": 5
}
